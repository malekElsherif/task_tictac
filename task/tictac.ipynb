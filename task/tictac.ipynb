{
 "cells": [
  {
   "cell_type": "code",
   "execution_count": 2,
   "id": "1dba5f8c",
   "metadata": {},
   "outputs": [],
   "source": [
    "tictac=[[\"-\",\"-\",\"-\"] ,\n",
    "        [\"-\",\"-\",\"-\"] ,\n",
    "        [\"-\",\"-\",\"-\"]]\n"
   ]
  },
  {
   "cell_type": "code",
   "execution_count": 3,
   "id": "ba16eaae",
   "metadata": {},
   "outputs": [
    {
     "name": "stdout",
     "output_type": "stream",
     "text": [
      "- - -\n",
      "- - -\n",
      "- - -\n"
     ]
    }
   ],
   "source": [
    "for x in tictac:\n",
    "    print(\" \".join(x))"
   ]
  },
  {
   "cell_type": "code",
   "execution_count": 4,
   "id": "7ec47e62",
   "metadata": {},
   "outputs": [
    {
     "name": "stdout",
     "output_type": "stream",
     "text": [
      "player one enter x or o : x\n"
     ]
    }
   ],
   "source": [
    "p1sympol=str(input(\"player one enter x or o : \"));"
   ]
  },
  {
   "cell_type": "code",
   "execution_count": 5,
   "id": "14c1a2cf",
   "metadata": {},
   "outputs": [],
   "source": [
    "if p1sympol==\"x\":\n",
    "    p2sympol=\"o\";\n",
    "else :\n",
    "    p2sympol=\"x\";\n",
    "    "
   ]
  },
  {
   "cell_type": "code",
   "execution_count": 6,
   "id": "597e6a5f",
   "metadata": {},
   "outputs": [],
   "source": [
    "def isfill():\n",
    "    x=9\n",
    "    for r in range(3):\n",
    "        for c in range(3):\n",
    "            if tictac[r][c]!=\"-\":\n",
    "                x-=1\n",
    "    return x==0; \n",
    "     \n",
    "\n",
    "          "
   ]
  },
  {
   "cell_type": "code",
   "execution_count": 7,
   "id": "495f60f5",
   "metadata": {},
   "outputs": [],
   "source": [
    "\n",
    "def user1():\n",
    "    \n",
    "    while True:    \n",
    "\n",
    "        while True:\n",
    "            p1_raw=int(input( \" player one enter raw number of {} from 1 To 3 : \".format(p1sympol)));\n",
    "\n",
    "            if 1 <= p1_raw <=3:\n",
    "                break\n",
    "            else: print(\"Please enter a number from 1 to 3.\");\n",
    "\n",
    "\n",
    "        while True:\n",
    "            p1_col=int(input( \" player one enter place of {} in raw from 1 To 3 : \".format(p1sympol)));\n",
    "\n",
    "            if 1 <= p1_col <= 3:\n",
    "                break;\n",
    "            else:print(\"Please enter a number from 1 to 3.\");   \n",
    "        if tictac[p1_raw-1][p1_col-1] ==\"-\":\n",
    "            tictac[p1_raw-1][p1_col-1]=\"{}\".format(p1sympol)\n",
    "            for x in tictac:\n",
    "                print(\" \".join(x));\n",
    "            break;\n",
    "                \n",
    "        \n",
    "        \n",
    "        \n",
    "   "
   ]
  },
  {
   "cell_type": "code",
   "execution_count": 8,
   "id": "0183a6e4",
   "metadata": {},
   "outputs": [],
   "source": [
    "def user2():\n",
    "    while True:\n",
    "\n",
    "\n",
    "        while True:\n",
    "\n",
    "            p2_raw=int(input( \" player two enter raw number of {} from 1 To 3 : \".format(p1sympol)));\n",
    "\n",
    "            if 1<=p2_raw<=3:\n",
    "                break;\n",
    "            else:print(\"Please enter a number from 1 to 3.\");\n",
    "            \n",
    "        while True:\n",
    "\n",
    "            p2_col=int(input( \" player two enter place of {} in raw from 1 To 3 : \".format(p1sympol)));\n",
    "\n",
    "            if 1<=p2_col<=3:\n",
    "                break;\n",
    "\n",
    "            else:print(\"Please enter a number from 1 to 3.\");   \n",
    "\n",
    "        if tictac[p2_raw-1][p2_col-1]==\"-\":\n",
    "            tictac[p2_raw-1][p2_col-1]=\"{}\".format(p2sympol)\n",
    "            for x in tictac:\n",
    "                print(\" \".join(x));\n",
    "\n",
    "            break;\n"
   ]
  },
  {
   "cell_type": "code",
   "execution_count": 9,
   "id": "8904f31a",
   "metadata": {},
   "outputs": [],
   "source": [
    "def start_game():\n",
    "    p1=0; p2=0;    \n",
    "    while True:\n",
    "        user1()\n",
    "\n",
    "        if tictac[0][0]==tictac[1][1]==tictac[2][2]==p1sympol!=\"-\":\n",
    "            print(\"congratulation player one  you won\");\n",
    "            break\n",
    "\n",
    "\n",
    "        elif tictac[0][0]==tictac[1][1]==tictac[2][2]!=\"-\":\n",
    "            print(\"player one win\")\n",
    "            break\n",
    "\n",
    "        if  tictac[0][2]==tictac[1][1]==tictac[2][0]!=\"-\":\n",
    "            print(\"congratulation player one you won\");\n",
    "            break\n",
    "\n",
    "        if tictac[0][0]==tictac[0][1]==tictac[0][2]!=\"-\":\n",
    "            print(\"congratulation player one you won\");break\n",
    "\n",
    "        if  tictac[1][0]==tictac[1][1]==tictac[1][2]!=\"-\":\n",
    "            print(\"congratulation player one you won\"); break\n",
    "\n",
    "        if tictac[2][0]==tictac[2][1]==tictac[2][2]!=\"-\":\n",
    "            print(\"congratulation player one  you won\"); break  \n",
    "\n",
    "        if tictac[0][0]==tictac[1][0]==tictac[2][0]!=\"-\":\n",
    "            print(\"congratulation player one you won\"); break \n",
    "\n",
    "        if tictac[0][1]==tictac[1][1]==tictac[2][1]!=\"-\":\n",
    "            print(\"congratulation player one  you won\"); break\n",
    "\n",
    "        if tictac[0][2]==tictac[1][2]==tictac[2][2]!=\"-\":\n",
    "            print(\"congratulation player one you won\"); break\n",
    "        if isfill()==True:\n",
    "            print(\"the array is fill play again\")\n",
    "            break\n",
    "\n",
    "\n",
    "        user2()\n",
    "\n",
    "        if tictac[0][0]==tictac[1][1]==tictac[2][2]==p1sympol!=\"-\":\n",
    "\n",
    "            print(\"congratulation player two you won\");\n",
    "            break\n",
    "\n",
    "\n",
    "        elif tictac[0][0]==tictac[1][1]==tictac[2][2]!=\"-\":\n",
    "            print(\"player2 win\")\n",
    "            break\n",
    "\n",
    "        if  tictac[0][2]==tictac[1][1]==tictac[2][0]!=\"-\":\n",
    "            print(\"congratulation player two you won\");\n",
    "            break\n",
    "\n",
    "        if tictac[0][0]==tictac[0][1]==tictac[0][2]!=\"-\":\n",
    "            print(\"congratulation player two you won\");break\n",
    "\n",
    "        if  tictac[1][0]==tictac[1][1]==tictac[1][2]!=\"-\":\n",
    "            print(\"congratulation player two you won\"); break\n",
    "\n",
    "        if tictac[2][0]==tictac[2][1]==tictac[2][2]!=\"-\":\n",
    "            print(\"congratulation player two you won\"); break  \n",
    "\n",
    "        if tictac[0][0]==tictac[1][0]==tictac[2][0]!=\"-\":\n",
    "            print(\"congratulation player two you won\"); break \n",
    "\n",
    "        if tictac[0][1]==tictac[1][1]==tictac[2][1]!=\"-\":\n",
    "            print(\"congratulation player two you won\"); break\n",
    "\n",
    "        if tictac[0][2]==tictac[1][2]==tictac[2][2]!=\"-\":\n",
    "            print(\"congratulation player two you won\"); break\n",
    "        if isfill()==True:\n",
    "            print(\"the array is fill play again\")\n",
    "            break    \n",
    "   "
   ]
  },
  {
   "cell_type": "code",
   "execution_count": 10,
   "id": "54bf22f2",
   "metadata": {},
   "outputs": [],
   "source": [
    "def ask_to_play():\n",
    "    while True:\n",
    "        ask1= input(\"do you want to play (yes or no) : \");\n",
    "        if ask1==\"yes\":\n",
    "            start_game()\n",
    "            break\n",
    "        elif ask1==\"no\":\n",
    "            print(\"goog luck😊\");\n",
    "            break\n",
    "        else:\n",
    "            True;\n"
   ]
  },
  {
   "cell_type": "code",
   "execution_count": null,
   "id": "965abb1c",
   "metadata": {
    "scrolled": true
   },
   "outputs": [],
   "source": [
    "ask_to_play()"
   ]
  },
  {
   "cell_type": "code",
   "execution_count": null,
   "id": "71ea42ba",
   "metadata": {},
   "outputs": [],
   "source": []
  }
 ],
 "metadata": {
  "kernelspec": {
   "display_name": "Python 3 (ipykernel)",
   "language": "python",
   "name": "python3"
  },
  "language_info": {
   "codemirror_mode": {
    "name": "ipython",
    "version": 3
   },
   "file_extension": ".py",
   "mimetype": "text/x-python",
   "name": "python",
   "nbconvert_exporter": "python",
   "pygments_lexer": "ipython3",
   "version": "3.10.9"
  }
 },
 "nbformat": 4,
 "nbformat_minor": 5
}
